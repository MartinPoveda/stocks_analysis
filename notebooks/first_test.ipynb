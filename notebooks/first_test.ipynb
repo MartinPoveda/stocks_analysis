{
 "cells": [
  {
   "cell_type": "code",
   "execution_count": null,
   "metadata": {},
   "outputs": [],
   "source": [
    "import os\n",
    "import json"
   ]
  },
  {
   "cell_type": "code",
   "execution_count": null,
   "metadata": {},
   "outputs": [],
   "source": [
    "import numpy as np\n",
    "import pandas as pd\n",
    "import matplotlib.pyplot as plt"
   ]
  },
  {
   "cell_type": "code",
   "execution_count": null,
   "metadata": {},
   "outputs": [],
   "source": [
    "import pandas_ta as ta\n",
    "from alpha_vantage.timeseries import TimeSeries\n",
    "from alpha_vantage.techindicators import TechIndicators"
   ]
  },
  {
   "cell_type": "code",
   "execution_count": null,
   "metadata": {},
   "outputs": [],
   "source": [
    "from trading import utils"
   ]
  },
  {
   "cell_type": "code",
   "execution_count": null,
   "metadata": {},
   "outputs": [],
   "source": [
    "ts = TimeSeries(key='ALPHAVANTAGE_API_KEY', output_format='pandas')"
   ]
  },
  {
   "cell_type": "code",
   "execution_count": null,
   "metadata": {},
   "outputs": [],
   "source": [
    "INPUT = os.getcwd() + '/data/historical/stocks/'"
   ]
  },
  {
   "cell_type": "code",
   "execution_count": null,
   "metadata": {},
   "outputs": [],
   "source": [
    "with open(INPUT + 'top_stocks_2015.json', 'r') as f:\n",
    "    stocks = json.load(f)"
   ]
  },
  {
   "cell_type": "code",
   "execution_count": null,
   "metadata": {},
   "outputs": [],
   "source": [
    "symbols = pd.read_csv(INPUT + 'companiesmarketcap.com - Largest CAC 40 companies by market cap.csv')['Symbol']"
   ]
  },
  {
   "cell_type": "raw",
   "metadata": {
    "vscode": {
     "languageId": "raw"
    }
   },
   "source": [
    "datas = list()\n",
    "for symbol in symbols[:25]:\n",
    "    data = ts.get_daily(symbol=symbol, outputsize='full')\n",
    "    datas.append(data)"
   ]
  },
  {
   "cell_type": "raw",
   "metadata": {
    "vscode": {
     "languageId": "raw"
    }
   },
   "source": [
    "utils.save_data(datas, INPUT)"
   ]
  },
  {
   "cell_type": "raw",
   "metadata": {
    "vscode": {
     "languageId": "raw"
    }
   },
   "source": [
    "datas = list()\n",
    "for symbol in stocks.values():\n",
    "    data = ts.get_daily(symbol=symbol, outputsize='full')\n",
    "    datas.append(data)"
   ]
  },
  {
   "cell_type": "code",
   "execution_count": null,
   "metadata": {},
   "outputs": [],
   "source": [
    "datas = utils.load_data(INPUT)"
   ]
  },
  {
   "cell_type": "code",
   "execution_count": null,
   "metadata": {},
   "outputs": [],
   "source": [
    "timeseries = dict()\n",
    "for symbol, value in datas.items():\n",
    "    data = value[0].sort_index()\n",
    "    data.columns = [col[1] for col in data.columns.str.split(' ')]\n",
    "    timeseries[symbol] = data"
   ]
  },
  {
   "cell_type": "raw",
   "metadata": {
    "vscode": {
     "languageId": "raw"
    }
   },
   "source": [
    "# Adjust removing stocks splits (still not consider dividend)\n",
    "for symbol,data in timeseries.items():\n",
    "    gaps = data['open'] / data['close'].shift(-1)\n",
    "    multiplier = round(gaps, ndigits=0).cumprod()\n",
    "    divider = round(1/gaps, ndigits=0).cumprod()\n",
    "    splits = multiplier / divider\n",
    "    cols = data.columns != 'volume'\n",
    "    data.loc[:, cols] = data.loc[:,cols].mul(splits, axis=0)\n",
    "    timeseries[symbol] = data"
   ]
  },
  {
   "cell_type": "code",
   "execution_count": null,
   "metadata": {},
   "outputs": [],
   "source": [
    "multipliers = dict()\n",
    "for symbol,data in timeseries.items():\n",
    "    multiplier = data['close'].iloc[-1] / data['open'].iloc[0]\n",
    "    multipliers[symbol] = multiplier"
   ]
  },
  {
   "cell_type": "code",
   "execution_count": null,
   "metadata": {},
   "outputs": [],
   "source": [
    "sma_results = dict()\n",
    "for symbol,data in timeseries.items():\n",
    "    exposition_cond = data.ta.sma(length=100) < data['close']\n",
    "    sma_results[symbol] = data['open'].diff().where(\n",
    "        exposition_cond.shift()).fillna(0).cumsum() + data['open'].iloc[0]"
   ]
  },
  {
   "cell_type": "code",
   "execution_count": null,
   "metadata": {},
   "outputs": [],
   "source": [
    "multipliers_sma = dict()\n",
    "for symbol,data in sma_results.items():\n",
    "    multiplier_sma = data.iloc[-1] / data.iloc[0]\n",
    "    multipliers_sma[symbol] = multiplier_sma"
   ]
  },
  {
   "cell_type": "code",
   "execution_count": null,
   "metadata": {},
   "outputs": [],
   "source": [
    "for symbol in sma_results.keys():\n",
    "    print(f'Strategy for {symbol} multiply gains per {(multipliers_sma[symbol] / multipliers[symbol]):.2f}')"
   ]
  },
  {
   "cell_type": "code",
   "execution_count": null,
   "metadata": {},
   "outputs": [],
   "source": [
    "test = sma_results['BRK.A'].index"
   ]
  },
  {
   "cell_type": "code",
   "execution_count": null,
   "metadata": {},
   "outputs": [],
   "source": [
    "years = (test[-1] - test[0]).days / 365.25"
   ]
  },
  {
   "cell_type": "code",
   "execution_count": null,
   "metadata": {},
   "outputs": [],
   "source": [
    "(multipliers['BRK.A'] - 1) ** (1/years) - 1, (multipliers_sma['BRK.A'] - 1) ** (1/years) - 1"
   ]
  },
  {
   "cell_type": "code",
   "execution_count": null,
   "metadata": {},
   "outputs": [],
   "source": [
    "for symbol in timeseries.keys():\n",
    "    fig, ax = plt.subplots(figsize=(10,6))\n",
    "    plt.semilogy(timeseries[symbol]['close'], label=f'{symbol} price')\n",
    "    plt.semilogy(sma_results[symbol], label='SMA strat')\n",
    "    plt.title(f'Daily Times Series for the {symbol} stock')\n",
    "    plt.legend(loc='upper left')"
   ]
  },
  {
   "cell_type": "code",
   "execution_count": null,
   "metadata": {},
   "outputs": [],
   "source": []
  }
 ],
 "metadata": {
  "kernelspec": {
   "display_name": "trading",
   "language": "python",
   "name": "python3"
  },
  "language_info": {
   "codemirror_mode": {
    "name": "ipython",
    "version": 3
   },
   "file_extension": ".py",
   "mimetype": "text/x-python",
   "name": "python",
   "nbconvert_exporter": "python",
   "pygments_lexer": "ipython3",
   "version": "3.12.4"
  }
 },
 "nbformat": 4,
 "nbformat_minor": 2
}
